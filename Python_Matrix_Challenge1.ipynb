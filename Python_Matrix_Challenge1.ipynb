{
 "cells": [
  {
   "cell_type": "code",
   "execution_count": 234,
   "metadata": {},
   "outputs": [],
   "source": [
    "#numpy library for arrays computation\n",
    "import numpy as np\n"
   ]
  },
  {
   "cell_type": "code",
   "execution_count": 254,
   "metadata": {},
   "outputs": [],
   "source": [
    "class Matrix_Spit():\n",
    "\n",
    "    def __init__(self, input_str:str,shape1:int,shape2:int) -> None:\n",
    "        \n",
    "        self.shape1=shape1\n",
    "        self.shape2=shape2\n",
    "        self.input_str = input_str\n",
    "\n",
    "    def convert_matrix(self) -> np.ndarray:\n",
    "        \"\"\"\n",
    "        Function that converts input string to matrix format\n",
    "        \n",
    "        :param input string: A string that contain the data\n",
    "        :return: matrix or numpy.ndarray format\n",
    "        \n",
    "        \"\"\"\n",
    "        self.lst = self.input_str.split(' ')\n",
    "        self.i = [int(self.i) for self.i in self.lst]\n",
    "        self.arr = np.asarray(self.i)\n",
    "        self.matrix = np.array(self.arr).reshape(self.shape1,self.shape2)\n",
    "        \n",
    "        return self.matrix\n",
    "\n",
    "    def split_rows(self) -> list:\n",
    "        \"\"\"\n",
    "        Function that reads each row of the matrix and appends to the list\n",
    "        \n",
    "        :param matrix: A matrix that contain the data in 3x3 dimension.\n",
    "        :return: list of rows\n",
    "        \n",
    "        \"\"\"\n",
    "        self.rows = []\n",
    "        for self.row in self.matrix:\n",
    "            \n",
    "            self.rows.append(self.row)\n",
    "        \n",
    "            \n",
    "        return self.rows\n",
    "\n",
    "    def split_columns(self) -> list:\n",
    "        \"\"\"\n",
    "        Function that reads each column of the matrix and appends to the list\n",
    "        \n",
    "        :param matrix: A matrix that contain the data in 3x3 dimension.As we \n",
    "         need columns, the matrix is transposed and read each row.\n",
    "        \n",
    "        :return: list of columns\n",
    "        \n",
    "        \"\"\"\n",
    "        self.cols = []\n",
    "        self.mat = self.matrix.T\n",
    "        for self.col in self.mat:\n",
    "            self.cols.append(self.col)\n",
    "            \n",
    "        return self.cols"
   ]
  },
  {
   "cell_type": "code",
   "execution_count": 259,
   "metadata": {
    "scrolled": true
   },
   "outputs": [],
   "source": [
    "def main():\n",
    "    \n",
    "    print('enter input data\\n')  # enter data with dimension of Shape1xShape2\n",
    "    inp = input()\n",
    "    print('enter frist shape\\n')  # enter shape1\n",
    "    shape1 = int(input())\n",
    "    print('enter second shape\\n')  # enter shape2\n",
    "    shape2 = int(input())\n",
    "\n",
    "    obj = Matrix_Spit(inp, shape1, shape2)  # calling a class with input data\n",
    "    # calling a method for conversion of input to matrix through class object\n",
    "    original_matrix = obj.convert_matrix()\n",
    "    rows = obj.split_rows()  # calling method for rows (list)\n",
    "\n",
    "    print('Rows Output:\\n')\n",
    "    for i in rows:\n",
    "        print(','.join(str(i).split(' '))[1:-1])\n",
    "\n",
    "    print('\\n')\n",
    "    cols = obj.split_columns()  # calling method for columns (list)\n",
    "    print('Columns Output:\\n')\n",
    "    for j in cols:\n",
    "        print(','.join(str(j).split(' '))[1:-1])"
   ]
  },
  {
   "cell_type": "code",
   "execution_count": 260,
   "metadata": {},
   "outputs": [
    {
     "name": "stdout",
     "output_type": "stream",
     "text": [
      "enter input data\n",
      "\n",
      "9 8 7 5 3 2 6 6 7\n",
      "enter frist shape\n",
      "\n",
      "3\n",
      "enter second shape\n",
      "\n",
      "3\n",
      "Rows Output:\n",
      "\n",
      "9,8,7\n",
      "5,3,2\n",
      "6,6,7\n",
      "\n",
      "\n",
      "Columns Output:\n",
      "\n",
      "9,5,6\n",
      "8,3,6\n",
      "7,2,7\n"
     ]
    }
   ],
   "source": [
    "if __name__ == \"__main__\":\n",
    "    main()"
   ]
  },
  {
   "cell_type": "code",
   "execution_count": null,
   "metadata": {},
   "outputs": [],
   "source": []
  }
 ],
 "metadata": {
  "kernelspec": {
   "display_name": "Python 3",
   "language": "python",
   "name": "python3"
  },
  "language_info": {
   "codemirror_mode": {
    "name": "ipython",
    "version": 3
   },
   "file_extension": ".py",
   "mimetype": "text/x-python",
   "name": "python",
   "nbconvert_exporter": "python",
   "pygments_lexer": "ipython3",
   "version": "3.7.6"
  }
 },
 "nbformat": 4,
 "nbformat_minor": 4
}
