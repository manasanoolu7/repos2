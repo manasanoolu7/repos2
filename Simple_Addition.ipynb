{
  "nbformat": 4,
  "nbformat_minor": 0,
  "metadata": {
    "colab": {
      "name": "Simple_Addition.ipynb",
      "provenance": [],
      "authorship_tag": "ABX9TyPKjtqsPv8JfEuV5sraPHrr",
      "include_colab_link": true
    },
    "kernelspec": {
      "name": "python3",
      "display_name": "Python 3"
    },
    "accelerator": "TPU"
  },
  "cells": [
    {
      "cell_type": "markdown",
      "metadata": {
        "id": "view-in-github",
        "colab_type": "text"
      },
      "source": [
        "<a href=\"https://colab.research.google.com/github/manasanoolu7/repos2/blob/master/Simple_Addition.ipynb\" target=\"_parent\"><img src=\"https://colab.research.google.com/assets/colab-badge.svg\" alt=\"Open In Colab\"/></a>"
      ]
    },
    {
      "cell_type": "code",
      "metadata": {
        "id": "QXknMKZ3cLgJ",
        "outputId": "9a5abf70-8644-4963-bbe7-95368300b8a0",
        "colab": {
          "base_uri": "https://localhost:8080/",
          "height": 34
        }
      },
      "source": [
        "from google.colab import drive\n",
        "drive.mount('/content/gdrive')"
      ],
      "execution_count": 1,
      "outputs": [
        {
          "output_type": "stream",
          "text": [
            "Mounted at /content/gdrive\n"
          ],
          "name": "stdout"
        }
      ]
    },
    {
      "cell_type": "code",
      "metadata": {
        "id": "ArSxKeZ-ciW-"
      },
      "source": [
        "import numpy as np\n",
        "import time"
      ],
      "execution_count": 2,
      "outputs": []
    },
    {
      "cell_type": "code",
      "metadata": {
        "id": "J_-DBhYNczoA"
      },
      "source": [
        "num1=np.random.randint(0,25000000,(5000,5000),dtype=int)\n",
        "num2=np.random.randint(0,25000000,(5000,5000),dtype=int)"
      ],
      "execution_count": 3,
      "outputs": []
    },
    {
      "cell_type": "code",
      "metadata": {
        "id": "MCylWz6edEVX",
        "outputId": "68ed75d4-4667-4c2f-bc96-c60f5f72748c",
        "colab": {
          "base_uri": "https://localhost:8080/",
          "height": 243
        }
      },
      "source": [
        "#start_time=time.time()\n",
        "result=np.dot(num1,num2)\n",
        "print(result)\n",
        "#print('time taken:',(time.time()-start_time))"
      ],
      "execution_count": 4,
      "outputs": [
        {
          "output_type": "stream",
          "text": [
            "[[784173630624056812 781803577329618388 772587998810005914 ...\n",
            "  770731145620057158 781105262415737922 780224703823487908]\n",
            " [789552349277848731 789360704434238652 787907423930842937 ...\n",
            "  787647246665854948 793761322807676062 797762591967684333]\n",
            " [783455712252831980 775054315035603164 767164420537866666 ...\n",
            "  767837641930859543 773105450319270191 779201674224734461]\n",
            " ...\n",
            " [776375114644535131 770268182037170693 771338313000853854 ...\n",
            "  767113690027483732 780702352841145210 774585397882086604]\n",
            " [790506091360372691 787013447299875345 779782812370709658 ...\n",
            "  789236758265710203 793199740040995694 795372078853361616]\n",
            " [785522743133765737 788091404253947688 787590697174578184 ...\n",
            "  780755599800726898 791300135940804566 792214589522671663]]\n"
          ],
          "name": "stdout"
        }
      ]
    },
    {
      "cell_type": "code",
      "metadata": {
        "id": "w-jtFP3kdYSm"
      },
      "source": [
        ""
      ],
      "execution_count": null,
      "outputs": []
    }
  ]
}